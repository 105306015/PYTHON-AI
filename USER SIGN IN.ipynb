{
 "cells": [
  {
   "cell_type": "code",
   "execution_count": 1,
   "metadata": {},
   "outputs": [
    {
     "name": "stdout",
     "output_type": "stream",
     "text": [
      "輸入使用者名稱： 123\n",
      "輸入密碼: 555\n",
      "輸入錯誤，請重新輸入，若輸入錯誤三次，退出\n",
      "輸入使用者名稱： Brian\n",
      "輸入密碼: 000000\n",
      "成功\n"
     ]
    }
   ],
   "source": [
    "a = 0\n",
    "while a < 3:\n",
    "    name = input(\"輸入使用者名稱： \")\n",
    "    password = input(\"輸入密碼: \")\n",
    "    a = a + 1\n",
    "    if name == 'Brian' and password == '000000':\n",
    "        print(\"成功\")\n",
    "        a = 4\n",
    "    else:\n",
    "        print(\"輸入錯誤，請重新輸入，若輸入錯誤三次，退出\")"
   ]
  },
  {
   "cell_type": "code",
   "execution_count": null,
   "metadata": {},
   "outputs": [],
   "source": []
  }
 ],
 "metadata": {
  "kernelspec": {
   "display_name": "Python 3",
   "language": "python",
   "name": "python3"
  },
  "language_info": {
   "codemirror_mode": {
    "name": "ipython",
    "version": 3
   },
   "file_extension": ".py",
   "mimetype": "text/x-python",
   "name": "python",
   "nbconvert_exporter": "python",
   "pygments_lexer": "ipython3",
   "version": "3.6.4"
  }
 },
 "nbformat": 4,
 "nbformat_minor": 2
}
