{
 "cells": [
  {
   "cell_type": "code",
   "execution_count": 2,
   "metadata": {},
   "outputs": [],
   "source": [
    "import random"
   ]
  },
  {
   "cell_type": "code",
   "execution_count": null,
   "metadata": {},
   "outputs": [
    {
     "name": "stdout",
     "output_type": "stream",
     "text": [
      "輸入1~20的數字:5\n",
      "7\n",
      "你輸了，再接再厲\n",
      "輸入1~20的數字:10\n",
      "15\n",
      "你輸了，再接再厲\n",
      "輸入1~20的數字:20\n",
      "3\n",
      "恭喜你贏了\n",
      "輸入1~20的數字:18\n",
      "7\n",
      "恭喜你贏了\n",
      "輸入1~20的數字:25\n",
      "數字超出範圍><\n"
     ]
    }
   ],
   "source": [
    "while True:\n",
    "    n = int(input(\"輸入1~20的數字:\"))\n",
    "    \n",
    "    if n < 1 or n > 20:\n",
    "        print('數字超出範圍><')\n",
    "    else:\n",
    "        com = random.randint(1, 20)\n",
    "        print(com)\n",
    "        if n > com:\n",
    "            print('恭喜你贏了')\n",
    "        else:\n",
    "            print('你輸了，再接再厲')"
   ]
  },
  {
   "cell_type": "code",
   "execution_count": null,
   "metadata": {},
   "outputs": [],
   "source": []
  }
 ],
 "metadata": {
  "kernelspec": {
   "display_name": "Python 3",
   "language": "python",
   "name": "python3"
  },
  "language_info": {
   "codemirror_mode": {
    "name": "ipython",
    "version": 3
   },
   "file_extension": ".py",
   "mimetype": "text/x-python",
   "name": "python",
   "nbconvert_exporter": "python",
   "pygments_lexer": "ipython3",
   "version": "3.6.4"
  }
 },
 "nbformat": 4,
 "nbformat_minor": 2
}
